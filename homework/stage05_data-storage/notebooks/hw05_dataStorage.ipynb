{
 "cells": [
  {
   "cell_type": "code",
   "execution_count": 1,
   "id": "ee5afcdd-00fe-40b9-8c54-cebfd067d1e0",
   "metadata": {},
   "outputs": [
    {
     "name": "stdout",
     "output_type": "stream",
     "text": [
      "Requirement already satisfied: pandas in /opt/miniconda3/envs/bootcamp_env/lib/python3.10/site-packages (2.3.1)\n",
      "Requirement already satisfied: python-dotenv in /opt/miniconda3/envs/bootcamp_env/lib/python3.10/site-packages (1.1.1)\n",
      "Collecting pyarrow\n",
      "  Downloading pyarrow-21.0.0-cp310-cp310-macosx_12_0_x86_64.whl.metadata (3.3 kB)\n",
      "Requirement already satisfied: numpy>=1.22.4 in /opt/miniconda3/envs/bootcamp_env/lib/python3.10/site-packages (from pandas) (2.2.6)\n",
      "Requirement already satisfied: python-dateutil>=2.8.2 in /opt/miniconda3/envs/bootcamp_env/lib/python3.10/site-packages (from pandas) (2.9.0.post0)\n",
      "Requirement already satisfied: pytz>=2020.1 in /opt/miniconda3/envs/bootcamp_env/lib/python3.10/site-packages (from pandas) (2025.2)\n",
      "Requirement already satisfied: tzdata>=2022.7 in /opt/miniconda3/envs/bootcamp_env/lib/python3.10/site-packages (from pandas) (2025.2)\n",
      "Requirement already satisfied: six>=1.5 in /opt/miniconda3/envs/bootcamp_env/lib/python3.10/site-packages (from python-dateutil>=2.8.2->pandas) (1.17.0)\n",
      "Downloading pyarrow-21.0.0-cp310-cp310-macosx_12_0_x86_64.whl (32.7 MB)\n",
      "\u001b[2K   \u001b[90m━━━━━━━━━━━━━━━━━━━━━━━━━━━━━━━━━━━━━━━━\u001b[0m \u001b[32m32.7/32.7 MB\u001b[0m \u001b[31m24.2 MB/s\u001b[0m eta \u001b[36m0:00:00\u001b[0m00:01\u001b[0m00:01\u001b[0m\n",
      "\u001b[?25hInstalling collected packages: pyarrow\n",
      "Successfully installed pyarrow-21.0.0\n",
      "Note: you may need to restart the kernel to use updated packages.\n"
     ]
    }
   ],
   "source": [
    "pip install pandas python-dotenv pyarrow\n"
   ]
  },
  {
   "cell_type": "code",
   "execution_count": 3,
   "id": "2f6bf1a4-8c39-4aae-a939-fb85b0944a48",
   "metadata": {},
   "outputs": [
    {
     "name": "stdout",
     "output_type": "stream",
     "text": [
      "Shape matches: True\n",
      "Dtypes match for columns ['id', 'value'] : True\n"
     ]
    }
   ],
   "source": [
    "import os\n",
    "import pandas as pd\n",
    "from dotenv import load_dotenv\n",
    "from io import StringIO\n",
    "\n",
    "# Load env vars\n",
    "load_dotenv()\n",
    "DATA_DIR_RAW = os.getenv(\"DATA_DIR_RAW\", \"data/raw\")\n",
    "DATA_DIR_PROCESSED = os.getenv(\"DATA_DIR_PROCESSED\", \"data/processed\")\n",
    "\n",
    "# Sample DataFrame\n",
    "df = pd.DataFrame({\n",
    "    \"id\": [1, 2, 3],\n",
    "    \"value\": [10.5, 20.3, 30.7],\n",
    "    \"label\": [\"A\", \"B\", \"C\"]\n",
    "})\n",
    "\n",
    "def write_df(df, path):\n",
    "    os.makedirs(os.path.dirname(path), exist_ok=True)\n",
    "    ext = path.split('.')[-1].lower()\n",
    "    if ext == \"csv\":\n",
    "        df.to_csv(path, index=False)\n",
    "    elif ext == \"parquet\":\n",
    "        try:\n",
    "            df.to_parquet(path, index=False)\n",
    "        except ImportError:\n",
    "            print(\"Parquet engine missing. Install pyarrow or fastparquet.\")\n",
    "    else:\n",
    "        raise ValueError(\"Unsupported file type.\")\n",
    "\n",
    "def read_df(path):\n",
    "    ext = path.split('.')[-1].lower()\n",
    "    if ext == \"csv\":\n",
    "        return pd.read_csv(path)\n",
    "    elif ext == \"parquet\":\n",
    "        try:\n",
    "            return pd.read_parquet(path)\n",
    "        except ImportError:\n",
    "            print(\"Parquet engine missing. Install pyarrow or fastparquet.\")\n",
    "            return None\n",
    "    else:\n",
    "        raise ValueError(\"Unsupported file type.\")\n",
    "\n",
    "def validate(df1, df2, cols):\n",
    "    print(\"Shape matches:\", df1.shape == df2.shape)\n",
    "    dtypes_match = all(df1[cols].dtypes == df2[cols].dtypes)\n",
    "    print(\"Dtypes match for columns\", cols, \":\", dtypes_match)\n",
    "\n",
    "# Paths\n",
    "csv_path = f\"{DATA_DIR_RAW}/sample.csv\"\n",
    "parquet_path = f\"{DATA_DIR_PROCESSED}/sample.parquet\"\n",
    "\n",
    "# Save\n",
    "write_df(df, csv_path)\n",
    "write_df(df, parquet_path)\n",
    "\n",
    "# Load\n",
    "df_csv = read_df(csv_path)\n",
    "df_parquet = read_df(parquet_path)\n",
    "\n",
    "# Validate\n",
    "validate(df_csv, df_parquet, cols=[\"id\", \"value\"])\n"
   ]
  },
  {
   "cell_type": "code",
   "execution_count": null,
   "id": "bb66aaa4-d2b8-443d-942a-501d37014b92",
   "metadata": {},
   "outputs": [],
   "source": []
  }
 ],
 "metadata": {
  "kernelspec": {
   "display_name": "Python 3 (ipykernel)",
   "language": "python",
   "name": "python3"
  },
  "language_info": {
   "codemirror_mode": {
    "name": "ipython",
    "version": 3
   },
   "file_extension": ".py",
   "mimetype": "text/x-python",
   "name": "python",
   "nbconvert_exporter": "python",
   "pygments_lexer": "ipython3",
   "version": "3.10.18"
  }
 },
 "nbformat": 4,
 "nbformat_minor": 5
}
