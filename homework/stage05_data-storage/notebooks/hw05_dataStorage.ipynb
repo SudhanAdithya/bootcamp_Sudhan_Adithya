{
 "cells": [
  {
   "cell_type": "code",
   "execution_count": 1,
   "id": "ee5afcdd-00fe-40b9-8c54-cebfd067d1e0",
   "metadata": {},
   "outputs": [
    {
     "name": "stdout",
     "output_type": "stream",
     "text": [
      "Collecting pandas\n",
      "  Downloading pandas-2.3.1-cp313-cp313-macosx_10_13_x86_64.whl.metadata (91 kB)\n",
      "Collecting python-dotenv\n",
      "  Using cached python_dotenv-1.1.1-py3-none-any.whl.metadata (24 kB)\n",
      "Collecting pyarrow\n",
      "  Downloading pyarrow-21.0.0-cp313-cp313-macosx_12_0_x86_64.whl.metadata (3.3 kB)\n",
      "Collecting numpy>=1.26.0 (from pandas)\n",
      "  Downloading numpy-2.3.2-cp313-cp313-macosx_10_13_x86_64.whl.metadata (62 kB)\n",
      "Requirement already satisfied: python-dateutil>=2.8.2 in /opt/miniconda3/lib/python3.13/site-packages (from pandas) (2.9.0.post0)\n",
      "Collecting pytz>=2020.1 (from pandas)\n",
      "  Using cached pytz-2025.2-py2.py3-none-any.whl.metadata (22 kB)\n",
      "Collecting tzdata>=2022.7 (from pandas)\n",
      "  Using cached tzdata-2025.2-py2.py3-none-any.whl.metadata (1.4 kB)\n",
      "Requirement already satisfied: six>=1.5 in /opt/miniconda3/lib/python3.13/site-packages (from python-dateutil>=2.8.2->pandas) (1.17.0)\n",
      "Downloading pandas-2.3.1-cp313-cp313-macosx_10_13_x86_64.whl (11.5 MB)\n",
      "\u001b[2K   \u001b[90m━━━━━━━━━━━━━━━━━━━━━━━━━━━━━━━━━━━━━━━━\u001b[0m \u001b[32m11.5/11.5 MB\u001b[0m \u001b[31m16.7 MB/s\u001b[0m eta \u001b[36m0:00:00\u001b[0m00:01\u001b[0m0:01\u001b[0m\n",
      "\u001b[?25hUsing cached python_dotenv-1.1.1-py3-none-any.whl (20 kB)\n",
      "Downloading pyarrow-21.0.0-cp313-cp313-macosx_12_0_x86_64.whl (32.7 MB)\n",
      "\u001b[2K   \u001b[90m━━━━━━━━━━━━━━━━━━━━━━━━━━━━━━━━━━━━━━━━\u001b[0m \u001b[32m32.7/32.7 MB\u001b[0m \u001b[31m20.2 MB/s\u001b[0m eta \u001b[36m0:00:00\u001b[0m00:01\u001b[0m00:01\u001b[0m\n",
      "\u001b[?25hDownloading numpy-2.3.2-cp313-cp313-macosx_10_13_x86_64.whl (20.9 MB)\n",
      "\u001b[2K   \u001b[90m━━━━━━━━━━━━━━━━━━━━━━━━━━━━━━━━━━━━━━━━\u001b[0m \u001b[32m20.9/20.9 MB\u001b[0m \u001b[31m17.1 MB/s\u001b[0m eta \u001b[36m0:00:00\u001b[0m00:01\u001b[0m00:01\u001b[0m\n",
      "\u001b[?25hUsing cached pytz-2025.2-py2.py3-none-any.whl (509 kB)\n",
      "Using cached tzdata-2025.2-py2.py3-none-any.whl (347 kB)\n",
      "Installing collected packages: pytz, tzdata, python-dotenv, pyarrow, numpy, pandas\n",
      "\u001b[2K   \u001b[90m━━━━━━━━━━━━━━━━━━━━━━━━━━━━━━━━━━━━━━━━\u001b[0m \u001b[32m6/6\u001b[0m [pandas]2m5/6\u001b[0m [pandas]]\n",
      "\u001b[1A\u001b[2KSuccessfully installed numpy-2.3.2 pandas-2.3.1 pyarrow-21.0.0 python-dotenv-1.1.1 pytz-2025.2 tzdata-2025.2\n",
      "Note: you may need to restart the kernel to use updated packages.\n"
     ]
    }
   ],
   "source": [
    "pip install pandas python-dotenv pyarrow\n"
   ]
  },
  {
   "cell_type": "code",
   "execution_count": null,
   "id": "2f6bf1a4-8c39-4aae-a939-fb85b0944a48",
   "metadata": {},
   "outputs": [
    {
     "name": "stdout",
     "output_type": "stream",
     "text": [
      "Shape matches: True\n",
      "Dtypes match for columns ['id', 'value'] : True\n"
     ]
    }
   ],
   "source": [
    "import os\n",
    "import pandas as pd\n",
    "from dotenv import load_dotenv\n",
    "from io import StringIO\n",
    "\n",
    "load_dotenv()\n",
    "DATA_DIR_RAW = os.getenv(\"DATA_DIR_RAW\", \"./data/raw\")\n",
    "DATA_DIR_PROCESSED = os.getenv(\"DATA_DIR_PROCESSED\", \"./data/processed\")\n",
    "\n",
    "df = pd.DataFrame({\n",
    "    \"id\": [1, 2, 3],\n",
    "    \"value\": [10.5, 20.3, 30.7],\n",
    "    \"label\": [\"A\", \"B\", \"C\"]\n",
    "})\n",
    "\n",
    "def write_df(df, path):\n",
    "    os.makedirs(os.path.dirname(path), exist_ok=True)\n",
    "    ext = path.split('.')[-1].lower()\n",
    "    if ext == \"csv\":\n",
    "        df.to_csv(path, index=False)\n",
    "    elif ext == \"parquet\":\n",
    "        try:\n",
    "            df.to_parquet(path, index=False)\n",
    "        except ImportError:\n",
    "            print(\"Parquet engine missing.\")\n",
    "    else:\n",
    "        raise ValueError(\"Unsupported file type.\")\n",
    "\n",
    "def read_df(path):\n",
    "    ext = path.split('.')[-1].lower()\n",
    "    if ext == \"csv\":\n",
    "        return pd.read_csv(path)\n",
    "    elif ext == \"parquet\":\n",
    "        try:\n",
    "            return pd.read_parquet(path)\n",
    "        except ImportError:\n",
    "            print(\"Parquet engine missing. Install pyarrow or fastparquet.\")\n",
    "            return None\n",
    "    else:\n",
    "        raise ValueError(\"Unsupported file type.\")\n",
    "\n",
    "def validate(df1, df2, cols):\n",
    "    print(\"Shape matches:\", df1.shape == df2.shape)\n",
    "    dtypes_match = all(df1[cols].dtypes == df2[cols].dtypes)\n",
    "    print(\"Dtypes match for columns\", cols, \":\", dtypes_match)\n",
    "\n",
    "csv_path = f\"{DATA_DIR_RAW}/sample.csv\"\n",
    "parquet_path = f\"{DATA_DIR_PROCESSED}/sample.parquet\"\n",
    "\n",
    "write_df(df, csv_path)\n",
    "write_df(df, parquet_path)\n",
    "\n",
    "df_csv = read_df(csv_path)\n",
    "df_parquet = read_df(parquet_path)\n",
    "\n",
    "validate(df_csv, df_parquet, cols=[\"id\", \"value\"])\n"
   ]
  },
  {
   "cell_type": "code",
   "execution_count": null,
   "id": "bb66aaa4-d2b8-443d-942a-501d37014b92",
   "metadata": {},
   "outputs": [],
   "source": []
  }
 ],
 "metadata": {
  "kernelspec": {
   "display_name": "base",
   "language": "python",
   "name": "python3"
  },
  "language_info": {
   "codemirror_mode": {
    "name": "ipython",
    "version": 3
   },
   "file_extension": ".py",
   "mimetype": "text/x-python",
   "name": "python",
   "nbconvert_exporter": "python",
   "pygments_lexer": "ipython3",
   "version": "3.13.5"
  }
 },
 "nbformat": 4,
 "nbformat_minor": 5
}
