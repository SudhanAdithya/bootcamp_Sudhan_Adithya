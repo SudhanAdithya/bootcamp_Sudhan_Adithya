{
 "cells": [
  {
   "cell_type": "code",
   "execution_count": null,
   "id": "8cd73dd1",
   "metadata": {},
   "outputs": [],
   "source": [
    "import numpy as np\n",
    "import pandas as pd\n",
    "import matplotlib.pyplot as plt\n",
    "\n",
    "from sklearn.model_selection import train_test_split, TimeSeriesSplit\n",
    "from sklearn.preprocessing import StandardScaler\n",
    "from sklearn.linear_model import LogisticRegression\n",
    "from sklearn.pipeline import Pipeline\n",
    "from sklearn.metrics import accuracy_score, precision_score, recall_score, f1_score, confusion_matrix, ConfusionMatrixDisplay\n",
    "\n",
    "np.random.seed(42)"
   ]
  },
  {
   "cell_type": "code",
   "execution_count": null,
   "id": "cfc47949",
   "metadata": {},
   "outputs": [
    {
     "data": {
      "text/html": [
       "<div>\n",
       "<style scoped>\n",
       "    .dataframe tbody tr th:only-of-type {\n",
       "        vertical-align: middle;\n",
       "    }\n",
       "\n",
       "    .dataframe tbody tr th {\n",
       "        vertical-align: top;\n",
       "    }\n",
       "\n",
       "    .dataframe thead th {\n",
       "        text-align: right;\n",
       "    }\n",
       "</style>\n",
       "<table border=\"1\" class=\"dataframe\">\n",
       "  <thead>\n",
       "    <tr style=\"text-align: right;\">\n",
       "      <th></th>\n",
       "      <th>ret</th>\n",
       "    </tr>\n",
       "  </thead>\n",
       "  <tbody>\n",
       "    <tr>\n",
       "      <th>2020-01-01</th>\n",
       "      <td>0.004967</td>\n",
       "    </tr>\n",
       "    <tr>\n",
       "      <th>2020-01-02</th>\n",
       "      <td>-0.001383</td>\n",
       "    </tr>\n",
       "    <tr>\n",
       "      <th>2020-01-03</th>\n",
       "      <td>0.006477</td>\n",
       "    </tr>\n",
       "    <tr>\n",
       "      <th>2020-01-04</th>\n",
       "      <td>0.015230</td>\n",
       "    </tr>\n",
       "    <tr>\n",
       "      <th>2020-01-05</th>\n",
       "      <td>-0.002342</td>\n",
       "    </tr>\n",
       "  </tbody>\n",
       "</table>\n",
       "</div>"
      ],
      "text/plain": [
       "                 ret\n",
       "2020-01-01  0.004967\n",
       "2020-01-02 -0.001383\n",
       "2020-01-03  0.006477\n",
       "2020-01-04  0.015230\n",
       "2020-01-05 -0.002342"
      ]
     },
     "execution_count": 2,
     "metadata": {},
     "output_type": "execute_result"
    }
   ],
   "source": [
    "# Generate synthetic time series returns data\n",
    "n = 500\n",
    "time_index = pd.date_range(start=\"2020-01-01\", periods=n, freq=\"D\")\n",
    "returns = np.random.normal(0, 0.01, size=n)\n",
    "\n",
    "df = pd.DataFrame({\"ret\": returns}, index=time_index)\n",
    "df.head()\n"
   ]
  },
  {
   "cell_type": "code",
   "execution_count": null,
   "id": "234be45d",
   "metadata": {},
   "outputs": [
    {
     "data": {
      "text/html": [
       "<div>\n",
       "<style scoped>\n",
       "    .dataframe tbody tr th:only-of-type {\n",
       "        vertical-align: middle;\n",
       "    }\n",
       "\n",
       "    .dataframe tbody tr th {\n",
       "        vertical-align: top;\n",
       "    }\n",
       "\n",
       "    .dataframe thead th {\n",
       "        text-align: right;\n",
       "    }\n",
       "</style>\n",
       "<table border=\"1\" class=\"dataframe\">\n",
       "  <thead>\n",
       "    <tr style=\"text-align: right;\">\n",
       "      <th></th>\n",
       "      <th>ret</th>\n",
       "      <th>lag1</th>\n",
       "      <th>lag2</th>\n",
       "      <th>rolling_mean_5</th>\n",
       "      <th>rolling_std_5</th>\n",
       "      <th>y</th>\n",
       "    </tr>\n",
       "  </thead>\n",
       "  <tbody>\n",
       "    <tr>\n",
       "      <th>2020-01-05</th>\n",
       "      <td>-0.002342</td>\n",
       "      <td>0.015230</td>\n",
       "      <td>0.006477</td>\n",
       "      <td>0.004590</td>\n",
       "      <td>0.007082</td>\n",
       "      <td>0</td>\n",
       "    </tr>\n",
       "    <tr>\n",
       "      <th>2020-01-06</th>\n",
       "      <td>-0.002341</td>\n",
       "      <td>-0.002342</td>\n",
       "      <td>0.015230</td>\n",
       "      <td>0.003128</td>\n",
       "      <td>0.007711</td>\n",
       "      <td>1</td>\n",
       "    </tr>\n",
       "    <tr>\n",
       "      <th>2020-01-07</th>\n",
       "      <td>0.015792</td>\n",
       "      <td>-0.002341</td>\n",
       "      <td>-0.002342</td>\n",
       "      <td>0.006563</td>\n",
       "      <td>0.008929</td>\n",
       "      <td>1</td>\n",
       "    </tr>\n",
       "    <tr>\n",
       "      <th>2020-01-08</th>\n",
       "      <td>0.007674</td>\n",
       "      <td>0.015792</td>\n",
       "      <td>-0.002341</td>\n",
       "      <td>0.006803</td>\n",
       "      <td>0.008942</td>\n",
       "      <td>0</td>\n",
       "    </tr>\n",
       "    <tr>\n",
       "      <th>2020-01-09</th>\n",
       "      <td>-0.004695</td>\n",
       "      <td>0.007674</td>\n",
       "      <td>0.015792</td>\n",
       "      <td>0.002818</td>\n",
       "      <td>0.008683</td>\n",
       "      <td>1</td>\n",
       "    </tr>\n",
       "  </tbody>\n",
       "</table>\n",
       "</div>"
      ],
      "text/plain": [
       "                 ret      lag1      lag2  rolling_mean_5  rolling_std_5  y\n",
       "2020-01-05 -0.002342  0.015230  0.006477        0.004590       0.007082  0\n",
       "2020-01-06 -0.002341 -0.002342  0.015230        0.003128       0.007711  1\n",
       "2020-01-07  0.015792 -0.002341 -0.002342        0.006563       0.008929  1\n",
       "2020-01-08  0.007674  0.015792 -0.002341        0.006803       0.008942  0\n",
       "2020-01-09 -0.004695  0.007674  0.015792        0.002818       0.008683  1"
      ]
     },
     "execution_count": 3,
     "metadata": {},
     "output_type": "execute_result"
    }
   ],
   "source": [
    "# Create lag and rolling features\n",
    "df[\"lag1\"] = df[\"ret\"].shift(1)\n",
    "df[\"lag2\"] = df[\"ret\"].shift(2)\n",
    "df[\"rolling_mean_5\"] = df[\"ret\"].rolling(5).mean()\n",
    "df[\"rolling_std_5\"] = df[\"ret\"].rolling(5).std()\n",
    "\n",
    "# Create classification target: up if next return > 0\n",
    "df[\"y\"] = (df[\"ret\"].shift(-1) > 0).astype(int)\n",
    "\n",
    "df = df.dropna()\n",
    "df.head()\n"
   ]
  },
  {
   "cell_type": "code",
   "execution_count": null,
   "id": "10a57166",
   "metadata": {},
   "outputs": [],
   "source": [
    "# Time-aware split: use most recent 30% as test\n",
    "split = int(len(df) * 0.7)\n",
    "train, test = df.iloc[:split], df.iloc[split:]\n",
    "\n",
    "X_train, y_train = train.drop(columns=[\"ret\", \"y\"]), train[\"y\"]\n",
    "X_test, y_test = test.drop(columns=[\"ret\", \"y\"]), test[\"y\"]\n"
   ]
  },
  {
   "cell_type": "code",
   "execution_count": null,
   "id": "227222c7",
   "metadata": {},
   "outputs": [],
   "source": [
    "# Build pipeline\n",
    "pipe = Pipeline([\n",
    "    (\"scaler\", StandardScaler()),\n",
    "    (\"clf\", LogisticRegression())\n",
    "])\n",
    "\n",
    "pipe.fit(X_train, y_train)\n",
    "y_pred = pipe.predict(X_test)\n"
   ]
  },
  {
   "cell_type": "code",
   "execution_count": null,
   "id": "41a652d4",
   "metadata": {},
   "outputs": [
    {
     "name": "stdout",
     "output_type": "stream",
     "text": [
      "Accuracy: 0.523\n",
      "Precision: 0.505\n",
      "Recall: 0.639\n",
      "F1 Score: 0.564\n"
     ]
    },
    {
     "data": {
      "image/png": "[encoded data removed]",
      "text/plain": [
       "<Figure size 640x480 with 2 Axes>"
      ]
     },
     "metadata": {},
     "output_type": "display_data"
    }
   ],
   "source": [
    "# Evaluate classification performance\n",
    "acc = accuracy_score(y_test, y_pred)\n",
    "prec = precision_score(y_test, y_pred)\n",
    "rec = recall_score(y_test, y_pred)\n",
    "f1 = f1_score(y_test, y_pred)\n",
    "\n",
    "print(f\"Accuracy: {acc:.3f}\")\n",
    "print(f\"Precision: {prec:.3f}\")\n",
    "print(f\"Recall: {rec:.3f}\")\n",
    "print(f\"F1 Score: {f1:.3f}\")\n",
    "\n",
    "# Confusion matrix\n",
    "cm = confusion_matrix(y_test, y_pred)\n",
    "disp = ConfusionMatrixDisplay(confusion_matrix=cm, display_labels=[\"Down\", \"Up\"])\n",
    "disp.plot(cmap=\"Blues\")\n",
    "plt.show()\n"
   ]
  }
 ],
 "metadata": {
  "kernelspec": {
   "display_name": "base",
   "language": "python",
   "name": "python3"
  },
  "language_info": {
   "codemirror_mode": {
    "name": "ipython",
    "version": 3
   },
   "file_extension": ".py",
   "mimetype": "text/x-python",
   "name": "python",
   "nbconvert_exporter": "python",
   "pygments_lexer": "ipython3",
   "version": "3.13.5"
  }
 },
 "nbformat": 4,
 "nbformat_minor": 5
}
