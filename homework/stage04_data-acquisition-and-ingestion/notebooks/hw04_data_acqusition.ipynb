{
 "cells": [
  {
   "cell_type": "code",
   "execution_count": 39,
   "id": "16322bd8-3a99-4408-a4a6-db33b153ea8e",
   "metadata": {},
   "outputs": [
    {
     "name": "stderr",
     "output_type": "stream",
     "text": [
      "/var/folders/4_/jnq8qqtd1g9_ryvlkj4r7jxh0000gp/T/ipykernel_17773/615698613.py:10: FutureWarning: YF.download() has changed argument auto_adjust default to True\n",
      "  df = yf.download(ticker, period=\"1mo\", interval=\"1d\")\n",
      "[*********************100%***********************]  1 of 1 completed"
     ]
    },
    {
     "name": "stdout",
     "output_type": "stream",
     "text": [
      "✅ Saved AAPL data to data/raw/aapl_stock_data.csv\n"
     ]
    },
    {
     "name": "stderr",
     "output_type": "stream",
     "text": [
      "\n"
     ]
    }
   ],
   "source": [
    "import os\n",
    "import yfinance as yf\n",
    "import pandas as pd\n",
    "\n",
    "def fetch_stock_data(ticker=\"AAPL\"):\n",
    "    # Create output directory\n",
    "    os.makedirs(\"data/raw\", exist_ok=True)\n",
    "\n",
    "    # Download data\n",
    "    df = yf.download(ticker, period=\"1mo\", interval=\"1d\")\n",
    "\n",
    "    # Reset index to make 'Date' a column\n",
    "    df.reset_index(inplace=True)\n",
    "\n",
    "    # Save to CSV\n",
    "    output_path = f\"data/raw/{ticker.lower()}_stock_data.csv\"\n",
    "    df.to_csv(output_path, index=False)\n",
    "    print(f\"✅ Saved {ticker} data to {output_path}\")\n",
    "\n",
    "# Run the function\n",
    "if __name__ == \"__main__\":\n",
    "    fetch_stock_data(\"AAPL\")  # Change ticker if needed\n"
   ]
  },
  {
   "cell_type": "code",
   "execution_count": 36,
   "id": "f3adb5b0-52c6-41c6-841a-9c5cacfabf54",
   "metadata": {},
   "outputs": [
    {
     "name": "stdout",
     "output_type": "stream",
     "text": [
      "Scraping table from: https://en.wikipedia.org/wiki/List_of_S%26P_500_companies\n",
      "✅ Saved S&P 500 table to data/raw/sp500_wiki_table.csv\n"
     ]
    }
   ],
   "source": [
    "import os\n",
    "import pandas as pd\n",
    "import requests\n",
    "from bs4 import BeautifulSoup\n",
    "from io import StringIO  # ✅ New import\n",
    "\n",
    "os.makedirs(\"data/raw\", exist_ok=True)\n",
    "\n",
    "def scrape_sp500_table():\n",
    "    url = \"https://en.wikipedia.org/wiki/List_of_S%26P_500_companies\"\n",
    "    print(f\"Scraping table from: {url}\")\n",
    "\n",
    "    response = requests.get(url)\n",
    "    if response.status_code != 200:\n",
    "        raise ConnectionError(f\"Failed to retrieve the page. Status code: {response.status_code}\")\n",
    "\n",
    "    soup = BeautifulSoup(response.text, \"html.parser\")\n",
    "    \n",
    "    table = soup.find(\"table\", {\"id\": \"constituents\"})\n",
    "    if table is None:\n",
    "        raise ValueError(\"Could not find table with id='constituents'\")\n",
    "\n",
    "    df = pd.read_html(StringIO(str(table)))[0]\n",
    "\n",
    "    output_path = \"data/raw/sp500_wiki_table.csv\"\n",
    "    df.to_csv(output_path, index=False)\n",
    "    print(f\"✅ Saved S&P 500 table to {output_path}\")\n",
    "\n",
    "if __name__ == \"__main__\":\n",
    "    scrape_sp500_table()"
   ]
  },
  {
   "cell_type": "code",
   "execution_count": null,
   "id": "0a21d843-c036-40dc-99d2-836beb178bb4",
   "metadata": {},
   "outputs": [],
   "source": []
  }
 ],
 "metadata": {
  "kernelspec": {
   "display_name": "Python 3 (ipykernel)",
   "language": "python",
   "name": "python3"
  },
  "language_info": {
   "codemirror_mode": {
    "name": "ipython",
    "version": 3
   },
   "file_extension": ".py",
   "mimetype": "text/x-python",
   "name": "python",
   "nbconvert_exporter": "python",
   "pygments_lexer": "ipython3",
   "version": "3.10.18"
  }
 },
 "nbformat": 4,
 "nbformat_minor": 5
}
