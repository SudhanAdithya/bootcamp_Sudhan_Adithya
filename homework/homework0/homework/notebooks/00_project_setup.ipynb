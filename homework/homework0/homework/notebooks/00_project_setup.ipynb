{
 "cells": [
  {
   "cell_type": "code",
   "execution_count": 15,
   "id": "e0e22afe-da88-456f-9c17-4220d26f3abd",
   "metadata": {},
   "outputs": [
    {
     "name": "stdout",
     "output_type": "stream",
     "text": [
      "✅ API_KEY is set. dummy_key_123\n",
      "Array sum: [5 7 9]\n"
     ]
    }
   ],
   "source": [
    "#“Environment & Config Check”\n",
    "from dotenv import load_dotenv\n",
    "import os\n",
    "import numpy as np\n",
    "\n",
    "# Load .env file from the 'homework' subfolder\n",
    "load_dotenv(dotenv_path=\"../.env\")\n",
    "\n",
    "# Check if API_KEY exists\n",
    "api_key = os.getenv(\"API_KEY\")\n",
    "if api_key:\n",
    "    print(\"✅ API_KEY is set.\",api_key)\n",
    "else:\n",
    "    print(\"❌ API_KEY is missing.\")\n",
    "\n",
    "# Small NumPy array operation\n",
    "a = np.array([1, 2, 3])\n",
    "b = np.array([4, 5, 6])\n",
    "print(\"Array sum:\", a + b)\n",
    "\n"
   ]
  }
 ],
 "metadata": {
  "kernelspec": {
   "display_name": "Python 3 (ipykernel)",
   "language": "python",
   "name": "python3"
  },
  "language_info": {
   "codemirror_mode": {
    "name": "ipython",
    "version": 3
   },
   "file_extension": ".py",
   "mimetype": "text/x-python",
   "name": "python",
   "nbconvert_exporter": "python",
   "pygments_lexer": "ipython3",
   "version": "3.10.18"
  }
 },
 "nbformat": 4,
 "nbformat_minor": 5
}
